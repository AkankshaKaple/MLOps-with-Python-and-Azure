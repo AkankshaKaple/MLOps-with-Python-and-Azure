{
 "cells": [
  {
   "cell_type": "code",
   "execution_count": 2,
   "id": "6633fad1",
   "metadata": {},
   "outputs": [],
   "source": [
    "import pandas as pd\n",
    "from azure.storage.blob import ContainerClient, BlobServiceClient\n",
    "import os"
   ]
  },
  {
   "cell_type": "code",
   "execution_count": 12,
   "id": "8139a035",
   "metadata": {},
   "outputs": [
    {
     "name": "stdout",
     "output_type": "stream",
     "text": [
      "Container Exists\n"
     ]
    }
   ],
   "source": [
    "blob_service_client = BlobServiceClient.from_connection_string(connect_str)\n",
    "container_name = \"mlops\"\n",
    "\n",
    "def upload_data_to_container(blob_service_client, file_path, container_name):\n",
    "    container = ContainerClient.from_connection_string(connect_str, container_name)\n",
    "    blobClient = blob_service_client.get_blob_client(container=container_name, blob=file_path)\n",
    "    try:\n",
    "        container_properties = container.get_container_properties()\n",
    "        # Container foo exists. You can now use it.\n",
    "        print(\"Container Exists\")\n",
    "\n",
    "    except Exception as e:\n",
    "        # Container foo does not exist. You can now create it.\n",
    "        container.create_container()\n",
    "        with open(file_path, \"rb\") as data:\n",
    "            blobClient.upload_blob(data)\n",
    "        print(\"Container Created\")\n",
    "        \n",
    "    return blobClient\n",
    "        \n",
    "blobClient = upload_data_to_container(blob_service_client, 'data/twitter_data.csv', container_name)"
   ]
  },
  {
   "cell_type": "code",
   "execution_count": 13,
   "id": "a0aed88b",
   "metadata": {},
   "outputs": [
    {
     "name": "stdout",
     "output_type": "stream",
     "text": [
      "\n",
      "Listing blobs...\n",
      "\tdata/twitter_data.csv\n"
     ]
    }
   ],
   "source": [
    "print(\"\\nListing blobs...\")\n",
    "container_client = ContainerClient.from_connection_string(conn_str=connect_str, container_name=\"mlops\")\n",
    "# List the blobs in the container\n",
    "blob_list = container_client.list_blobs()\n",
    "for blob in blob_list:\n",
    "    print(\"\\t\" + blob.name)"
   ]
  },
  {
   "cell_type": "code",
   "execution_count": 14,
   "id": "7bffc6c8",
   "metadata": {},
   "outputs": [
    {
     "name": "stdout",
     "output_type": "stream",
     "text": [
      "\n",
      "Downloading blob to \n",
      "\tC:/Users/UW465NE/1_ML_Ops/data/data.csv\n"
     ]
    }
   ],
   "source": [
    "# Download the blob to a local file\n",
    "# Add 'DOWNLOAD' before the .txt extension so you can see both files in the data directory\n",
    "\n",
    "def download_data_from_container(local_path, file_name):\n",
    "    download_file_path = os.path.join(local_path, file_name)\n",
    "    print(\"\\nDownloading blob to \\n\\t\" + download_file_path)\n",
    "\n",
    "    with open(download_file_path, \"wb\") as download_file:\n",
    "        download_file.write(blobClient.download_blob().readall())\n",
    "        \n",
    "download_data_from_container('C:/Users/UW465NE/1_ML_Ops/data/', 'data.csv')"
   ]
  },
  {
   "cell_type": "code",
   "execution_count": null,
   "id": "908f1021",
   "metadata": {},
   "outputs": [],
   "source": []
  }
 ],
 "metadata": {
  "kernelspec": {
   "display_name": "Python 3",
   "language": "python",
   "name": "python3"
  },
  "language_info": {
   "codemirror_mode": {
    "name": "ipython",
    "version": 3
   },
   "file_extension": ".py",
   "mimetype": "text/x-python",
   "name": "python",
   "nbconvert_exporter": "python",
   "pygments_lexer": "ipython3",
   "version": "3.7.6"
  }
 },
 "nbformat": 4,
 "nbformat_minor": 5
}
